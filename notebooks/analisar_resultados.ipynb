{
 "cells": [
  {
   "cell_type": "code",
   "execution_count": 2,
   "id": "3d7f4cad-6c71-4932-8767-b09407589bfa",
   "metadata": {},
   "outputs": [],
   "source": [
    "import pyspark\n",
    "import pyspark.sql.functions as F"
   ]
  },
  {
   "cell_type": "code",
   "execution_count": 3,
   "id": "b09e02da-6050-4485-861d-41438007de8a",
   "metadata": {},
   "outputs": [
    {
     "name": "stderr",
     "output_type": "stream",
     "text": [
      "22/11/06 16:44:42 WARN Utils: Your hostname, MBP-MT.local resolves to a loopback address: 127.0.0.1; using 192.168.0.192 instead (on interface en0)\n",
      "22/11/06 16:44:42 WARN Utils: Set SPARK_LOCAL_IP if you need to bind to another address\n",
      "22/11/06 16:44:43 WARN NativeCodeLoader: Unable to load native-hadoop library for your platform... using builtin-java classes where applicable\n",
      "Using Spark's default log4j profile: org/apache/spark/log4j-defaults.properties\n",
      "Setting default log level to \"WARN\".\n",
      "To adjust logging level use sc.setLogLevel(newLevel). For SparkR, use setLogLevel(newLevel).\n"
     ]
    }
   ],
   "source": [
    "spark = pyspark.sql.SparkSession.builder.getOrCreate()"
   ]
  },
  {
   "cell_type": "code",
   "execution_count": 12,
   "id": "93d4f85d-1dee-47e3-8cea-338cb9fbd046",
   "metadata": {},
   "outputs": [],
   "source": [
    "df = spark\\\n",
    "    .read\\\n",
    "    .option(\"header\", \"true\")\\\n",
    "    .option(\"sep\", \";\")\\\n",
    "    .option('encoding', 'latin1')\\\n",
    "    .csv(\"turno=2\")"
   ]
  },
  {
   "cell_type": "code",
   "execution_count": 16,
   "id": "f6d7f7b0-2a3b-4343-b988-9c1aac239448",
   "metadata": {},
   "outputs": [],
   "source": [
    "df.registerTempTable(\"segundo_turno\")"
   ]
  },
  {
   "cell_type": "code",
   "execution_count": 13,
   "id": "2c55ceea-ecab-4354-b21e-66ddfee7f90c",
   "metadata": {},
   "outputs": [
    {
     "name": "stdout",
     "output_type": "stream",
     "text": [
      "root\n",
      " |-- DT_GERACAO: string (nullable = true)\n",
      " |-- HH_GERACAO: string (nullable = true)\n",
      " |-- ANO_ELEICAO: string (nullable = true)\n",
      " |-- CD_TIPO_ELEICAO: string (nullable = true)\n",
      " |-- NM_TIPO_ELEICAO: string (nullable = true)\n",
      " |-- CD_PLEITO: string (nullable = true)\n",
      " |-- DT_PLEITO: string (nullable = true)\n",
      " |-- NR_TURNO: string (nullable = true)\n",
      " |-- CD_ELEICAO: string (nullable = true)\n",
      " |-- DS_ELEICAO: string (nullable = true)\n",
      " |-- SG_UF: string (nullable = true)\n",
      " |-- CD_MUNICIPIO: string (nullable = true)\n",
      " |-- NM_MUNICIPIO: string (nullable = true)\n",
      " |-- NR_ZONA: string (nullable = true)\n",
      " |-- NR_SECAO: string (nullable = true)\n",
      " |-- NR_LOCAL_VOTACAO: string (nullable = true)\n",
      " |-- CD_CARGO_PERGUNTA: string (nullable = true)\n",
      " |-- DS_CARGO_PERGUNTA: string (nullable = true)\n",
      " |-- NR_PARTIDO: string (nullable = true)\n",
      " |-- SG_PARTIDO: string (nullable = true)\n",
      " |-- NM_PARTIDO: string (nullable = true)\n",
      " |-- DT_BU_RECEBIDO: string (nullable = true)\n",
      " |-- QT_APTOS: string (nullable = true)\n",
      " |-- QT_COMPARECIMENTO: string (nullable = true)\n",
      " |-- QT_ABSTENCOES: string (nullable = true)\n",
      " |-- CD_TIPO_URNA: string (nullable = true)\n",
      " |-- DS_TIPO_URNA: string (nullable = true)\n",
      " |-- CD_TIPO_VOTAVEL: string (nullable = true)\n",
      " |-- DS_TIPO_VOTAVEL: string (nullable = true)\n",
      " |-- NR_VOTAVEL: string (nullable = true)\n",
      " |-- NM_VOTAVEL: string (nullable = true)\n",
      " |-- QT_VOTOS: string (nullable = true)\n",
      " |-- NR_URNA_EFETIVADA: string (nullable = true)\n",
      " |-- CD_CARGA_1_URNA_EFETIVADA: string (nullable = true)\n",
      " |-- CD_CARGA_2_URNA_EFETIVADA: string (nullable = true)\n",
      " |-- CD_FLASHCARD_URNA_EFETIVADA: string (nullable = true)\n",
      " |-- DT_CARGA_URNA_EFETIVADA: string (nullable = true)\n",
      " |-- DS_CARGO_PERGUNTA_SECAO: string (nullable = true)\n",
      " |-- DS_AGREGADAS: string (nullable = true)\n",
      " |-- DT_ABERTURA: string (nullable = true)\n",
      " |-- DT_ENCERRAMENTO: string (nullable = true)\n",
      " |-- QT_ELEITORES_BIOMETRIA_NH: string (nullable = true)\n",
      " |-- DT_EMISSAO_BU: string (nullable = true)\n",
      " |-- NR_JUNTA_APURADORA: string (nullable = true)\n",
      " |-- NR_TURMA_APURADORA: string (nullable = true)\n",
      "\n"
     ]
    }
   ],
   "source": [
    "df.printSchema()"
   ]
  },
  {
   "cell_type": "code",
   "execution_count": 75,
   "id": "d4e30df0-37b0-479d-90e0-a869c4381f45",
   "metadata": {},
   "outputs": [
    {
     "name": "stdout",
     "output_type": "stream",
     "text": [
      "numero de secoes:\n"
     ]
    },
    {
     "name": "stderr",
     "output_type": "stream",
     "text": [
      "                                                                                \r"
     ]
    },
    {
     "data": {
      "text/plain": [
       "2841231"
      ]
     },
     "execution_count": 75,
     "metadata": {},
     "output_type": "execute_result"
    }
   ],
   "source": [
    "print(\"numero de secoes:\")\n",
    "df.count()"
   ]
  },
  {
   "cell_type": "markdown",
   "id": "a1c2af5d-e3b6-419a-8c8b-858a074e5305",
   "metadata": {},
   "source": [
    "### Exemplo de query usando spark sql:"
   ]
  },
  {
   "cell_type": "code",
   "execution_count": 34,
   "id": "56094621-401a-4544-a40b-ef2c673902c7",
   "metadata": {},
   "outputs": [
    {
     "name": "stdout",
     "output_type": "stream",
     "text": [
      "+------------+-------+--------+-----------------+---------------+--------+-----------------+-------------+\n",
      "|NM_MUNICIPIO|NR_ZONA|NR_SECAO|DS_CARGO_PERGUNTA|     NM_VOTAVEL|QT_VOTOS|QT_COMPARECIMENTO|QT_ABSTENCOES|\n",
      "+------------+-------+--------+-----------------+---------------+--------+-----------------+-------------+\n",
      "|   SÃO PAULO|      1|       1|       Presidente|           Nulo|      12|              279|           91|\n",
      "|   SÃO PAULO|      1|       1|       Presidente| JAIR BOLSONARO|     132|              279|           91|\n",
      "|   SÃO PAULO|      1|       1|       Presidente|           LULA|     127|              279|           91|\n",
      "|   SÃO PAULO|      1|       1|       Presidente|         Branco|       8|              279|           91|\n",
      "|   SÃO PAULO|      1|       1|       Governador|           Nulo|      10|              279|           91|\n",
      "|   SÃO PAULO|      1|       1|       Governador|         Branco|      10|              279|           91|\n",
      "|   SÃO PAULO|      1|       1|       Governador|FERNANDO HADDAD|     124|              279|           91|\n",
      "|   SÃO PAULO|      1|       1|       Governador|       TARCÍSIO|     135|              279|           91|\n",
      "|   SÃO PAULO|      1|       2|       Presidente|           LULA|     158|              290|           97|\n",
      "|   SÃO PAULO|      1|       2|       Presidente|           Nulo|      13|              290|           97|\n",
      "|   SÃO PAULO|      1|       2|       Presidente|         Branco|       3|              290|           97|\n",
      "|   SÃO PAULO|      1|       2|       Presidente| JAIR BOLSONARO|     116|              290|           97|\n",
      "|   SÃO PAULO|      1|       2|       Governador|FERNANDO HADDAD|     117|              239|           92|\n",
      "|   SÃO PAULO|      1|       2|       Governador|       TARCÍSIO|      99|              239|           92|\n",
      "|   SÃO PAULO|      1|       2|       Governador|         Branco|       8|              239|           92|\n",
      "|   SÃO PAULO|      1|       2|       Governador|           Nulo|      15|              239|           92|\n",
      "|   SÃO PAULO|      1|       3|       Presidente|         Branco|       2|              298|           87|\n",
      "|   SÃO PAULO|      1|       3|       Presidente| JAIR BOLSONARO|     123|              298|           87|\n",
      "|   SÃO PAULO|      1|       3|       Presidente|           Nulo|       7|              298|           87|\n",
      "|   SÃO PAULO|      1|       3|       Presidente|           LULA|     166|              298|           87|\n",
      "+------------+-------+--------+-----------------+---------------+--------+-----------------+-------------+\n",
      "only showing top 20 rows\n",
      "\n"
     ]
    }
   ],
   "source": [
    "spark.sql(\"\"\"select NM_MUNICIPIO,\n",
    "                    NR_ZONA, \n",
    "                    NR_SECAO, \n",
    "                    DS_CARGO_PERGUNTA, \n",
    "                    NM_VOTAVEL, \n",
    "                    QT_VOTOS, \n",
    "                    QT_COMPARECIMENTO, \n",
    "                    QT_ABSTENCOES \n",
    "             from segundo_turno\n",
    "\"\"\").show()"
   ]
  },
  {
   "cell_type": "markdown",
   "id": "4c0724e0-0898-49a3-b86e-ef5ca2b405f3",
   "metadata": {},
   "source": [
    "### Agrupando votos por seções"
   ]
  },
  {
   "cell_type": "code",
   "execution_count": 55,
   "id": "aecf7118-ec12-439d-a617-33e143ef5894",
   "metadata": {},
   "outputs": [
    {
     "name": "stderr",
     "output_type": "stream",
     "text": [
      "[Stage 62:==================================================>   (186 + 8) / 200]\r"
     ]
    },
    {
     "name": "stdout",
     "output_type": "stream",
     "text": [
      "+-----+--------------------+-------+--------+-----------------+-------------+--------------+----+------+----+\n",
      "|SG_UF|        NM_MUNICIPIO|NR_ZONA|NR_SECAO|QT_COMPARECIMENTO|QT_ABSTENCOES|JAIR BOLSONARO|LULA|Branco|Nulo|\n",
      "+-----+--------------------+-------+--------+-----------------+-------------+--------------+----+------+----+\n",
      "|   SP|           SÃO PAULO|      1|     469|              271|           61|            74| 188|     4|   5|\n",
      "|   SP|           SÃO PAULO|      2|     355|              337|           60|           139| 176|     8|  14|\n",
      "|   SP|             CONCHAL|     75|      34|              285|           53|           205|  68|     3|   9|\n",
      "|   SP|SÃO JOSÉ DO RIO P...|    124|      46|              265|          134|           163|  89|     3|  10|\n",
      "|   SP|           AMERICANA|    158|     133|              232|           95|           170|  54|     2|   6|\n",
      "|   SP|            MIRACATU|    218|      61|              271|          136|           186|  73|     4|   8|\n",
      "|   SP|           SÃO PAULO|    253|     549|              334|           69|           182| 136|     5|  11|\n",
      "|   SP|            SOROCABA|    356|     355|              319|           59|           189| 111|     7|  12|\n",
      "|   BA|            SALVADOR|      8|     511|              364|           78|           110| 226|     9|  19|\n",
      "|   BA|            SALVADOR|     13|     162|              278|           95|           159| 107|     5|   7|\n",
      "|   BA|            JUAZEIRO|     48|     136|              299|           42|            94| 191|     4|  10|\n",
      "|   BA|               IRARÁ|     74|      29|              290|           91|            58| 217|     2|  13|\n",
      "|   BA|      NOVO HORIZONTE|     88|     271|              211|           37|            72| 125|     1|  13|\n",
      "|   BA|             MUTUÍPE|    109|      26|              242|          103|            43| 181|     5|  13|\n",
      "|   BA|               PRADO|    112|      32|              179|           84|            75|  98|     2|   4|\n",
      "|   BA|             IRAMAIA|    169|     143|              251|           94|            59| 177|     2|  13|\n",
      "|   BA|     BARRA DA ESTIVA|    169|     168|              302|           42|            95| 193|     3|  11|\n",
      "|   BA|             ITABELA|    189|      97|              189|           90|            79|  98|     4|   8|\n",
      "|   BA|                IAÇU|    193|      32|              208|           89|            40| 152|     5|  11|\n",
      "|   MG|             GONZAGA|      3|     151|              168|          121|            67|  94|     2|   5|\n",
      "+-----+--------------------+-------+--------+-----------------+-------------+--------------+----+------+----+\n",
      "only showing top 20 rows\n",
      "\n"
     ]
    },
    {
     "name": "stderr",
     "output_type": "stream",
     "text": [
      "                                                                                \r"
     ]
    }
   ],
   "source": [
    "secoes = spark.sql(\"\"\"SELECT SG_UF,\n",
    "                             NM_MUNICIPIO,\n",
    "                             NR_ZONA, \n",
    "                             NR_SECAO, \n",
    "                             DS_CARGO_PERGUNTA, \n",
    "                             NM_VOTAVEL, \n",
    "                             bigint(QT_VOTOS), \n",
    "                             bigint(QT_COMPARECIMENTO), \n",
    "                             bigint(QT_ABSTENCOES) \n",
    "                      FROM segundo_turno\n",
    "                      WHERE DS_CARGO_PERGUNTA='Presidente'\n",
    "\"\"\")\\\n",
    ".groupBy(\"SG_UF\", \"NM_MUNICIPIO\",\"NR_ZONA\",\"NR_SECAO\", \"QT_COMPARECIMENTO\", \"QT_ABSTENCOES\")\\\n",
    ".pivot(\"NM_VOTAVEL\", [\"JAIR BOLSONARO\", \"LULA\", \"Branco\", \"Nulo\"])\\\n",
    ".sum(\"QT_VOTOS\")\\\n",
    ".na.fill(0)\\\n",
    ".cache()\n",
    "\n",
    "secoes.show()"
   ]
  },
  {
   "cell_type": "code",
   "execution_count": 92,
   "id": "6b009771-dc53-404b-be9a-779475d707e1",
   "metadata": {},
   "outputs": [
    {
     "name": "stderr",
     "output_type": "stream",
     "text": [
      "                                                                                \r"
     ]
    }
   ],
   "source": [
    "# Checagem de sanidade para agrupamento, verificando se não duplicamos votos:\n",
    "assert secoes.select(\"SG_UF\", \"NM_MUNICIPIO\", \"NR_ZONA\", \"NR_SECAO\").count() == \\\n",
    "       secoes.select(\"SG_UF\", \"NM_MUNICIPIO\", \"NR_ZONA\", \"NR_SECAO\").distinct().count()"
   ]
  },
  {
   "cell_type": "markdown",
   "id": "b1e8a83c-c5c3-4c1e-bae6-4af1e0eb89c4",
   "metadata": {},
   "source": [
    "### Seções com zero votos de Lula e de Bolsonaro"
   ]
  },
  {
   "cell_type": "code",
   "execution_count": 65,
   "id": "c3d4665c-8897-44e8-b9ce-2e0b4bbc4cf7",
   "metadata": {},
   "outputs": [
    {
     "data": {
      "text/plain": [
       "144"
      ]
     },
     "execution_count": 65,
     "metadata": {},
     "output_type": "execute_result"
    }
   ],
   "source": [
    "secoes.filter(F.col(\"JAIR BOLSONARO\") == 0).count()"
   ]
  },
  {
   "cell_type": "code",
   "execution_count": 74,
   "id": "dc018d54-54d7-429c-aa71-884d13deb703",
   "metadata": {},
   "outputs": [
    {
     "name": "stdout",
     "output_type": "stream",
     "text": [
      "+-----+-------------------------+-------+--------+-----------------+-------------+--------------+----+------+----+\n",
      "|SG_UF|NM_MUNICIPIO             |NR_ZONA|NR_SECAO|QT_COMPARECIMENTO|QT_ABSTENCOES|JAIR BOLSONARO|LULA|Branco|Nulo|\n",
      "+-----+-------------------------+-------+--------+-----------------+-------------+--------------+----+------+----+\n",
      "|AC   |MARECHAL THAUMATURGO     |4      |326     |160              |90           |0             |153 |1     |6   |\n",
      "|AC   |MARECHAL THAUMATURGO     |4      |384     |105              |80           |0             |101 |0     |4   |\n",
      "|AM   |ATALAIA DO NORTE         |42     |25      |149              |45           |0             |138 |0     |11  |\n",
      "|AM   |ATALAIA DO NORTE         |42     |28      |132              |65           |0             |127 |1     |4   |\n",
      "|AM   |ATALAIA DO NORTE         |42     |29      |201              |134          |0             |175 |2     |24  |\n",
      "|AM   |ATALAIA DO NORTE         |42     |37      |108              |17           |0             |107 |0     |1   |\n",
      "|AM   |BARREIRINHA              |26     |63      |261              |52           |0             |237 |1     |23  |\n",
      "|AM   |CARAUARI                 |21     |96      |92               |10           |0             |91  |0     |1   |\n",
      "|AM   |IPIXUNA                  |45     |52      |150              |232          |0             |94  |7     |49  |\n",
      "|AM   |ITACOATIARA              |3      |158     |39               |22           |0             |37  |0     |2   |\n",
      "|AM   |SANTA ISABEL DO RIO NEGRO|30     |22      |216              |134          |0             |196 |0     |20  |\n",
      "|AM   |SANTA ISABEL DO RIO NEGRO|30     |26      |165              |167          |0             |156 |2     |7   |\n",
      "|AM   |SANTO ANTÔNIO DO IÇÁ     |47     |10      |329              |96           |0             |303 |2     |24  |\n",
      "|AM   |SÃO GABRIEL DA CACHOEIRA |19     |13      |243              |46           |0             |239 |0     |4   |\n",
      "|AM   |SÃO GABRIEL DA CACHOEIRA |19     |25      |215              |146          |0             |207 |0     |8   |\n",
      "|AM   |SÃO GABRIEL DA CACHOEIRA |19     |48      |172              |125          |0             |166 |0     |6   |\n",
      "|AM   |SÃO GABRIEL DA CACHOEIRA |19     |59      |141              |70           |0             |135 |0     |6   |\n",
      "|AM   |SÃO GABRIEL DA CACHOEIRA |19     |65      |210              |109          |0             |204 |0     |6   |\n",
      "|AM   |SÃO GABRIEL DA CACHOEIRA |19     |87      |165              |55           |0             |162 |0     |3   |\n",
      "|AM   |SÃO GABRIEL DA CACHOEIRA |19     |92      |206              |108          |0             |195 |0     |11  |\n",
      "|AM   |SÃO PAULO DE OLIVENÇA    |22     |44      |296              |58           |0             |277 |1     |18  |\n",
      "|AM   |SÃO PAULO DE OLIVENÇA    |22     |80      |358              |41           |0             |347 |1     |10  |\n",
      "|AM   |SÃO PAULO DE OLIVENÇA    |22     |86      |365              |35           |0             |350 |0     |15  |\n",
      "|AM   |TABATINGA                |36     |100     |152              |9            |0             |132 |0     |20  |\n",
      "|AM   |TABATINGA                |36     |98      |159              |7            |0             |146 |1     |12  |\n",
      "|BA   |ARACI                    |123    |137     |98               |43           |0             |87  |2     |9   |\n",
      "|BA   |BOQUIRA                  |65     |247     |125              |28           |0             |117 |0     |8   |\n",
      "|BA   |BOQUIRA                  |65     |255     |61               |25           |0             |60  |0     |1   |\n",
      "|BA   |BOQUIRA                  |65     |344     |100              |2            |0             |99  |0     |1   |\n",
      "|BA   |BOQUIRA                  |65     |345     |54               |4            |0             |52  |0     |2   |\n",
      "|BA   |BROTAS DE MACAÚBAS       |94     |28      |39               |28           |0             |35  |1     |3   |\n",
      "|BA   |CANARANA                 |174    |111     |146              |36           |0             |141 |0     |5   |\n",
      "|BA   |CASA NOVA                |66     |134     |105              |7            |0             |104 |0     |1   |\n",
      "|BA   |FEIRA DE SANTANA         |155    |800     |20               |13           |0             |19  |0     |1   |\n",
      "|BA   |IBITITÁ                  |104    |241     |55               |11           |0             |55  |0     |0   |\n",
      "|BA   |JUSSARA                  |159    |57      |76               |20           |0             |73  |1     |2   |\n",
      "|BA   |NOVO HORIZONTE           |88     |304     |72               |11           |0             |72  |0     |0   |\n",
      "|BA   |PARAMIRIM                |111    |208     |64               |50           |0             |60  |1     |3   |\n",
      "|BA   |PILÃO ARCADO             |195    |132     |176              |27           |0             |173 |0     |3   |\n",
      "|BA   |PILÃO ARCADO             |195    |37      |34               |21           |0             |33  |0     |1   |\n",
      "|BA   |PILÃO ARCADO             |195    |68      |88               |24           |0             |87  |0     |1   |\n",
      "|BA   |PILÃO ARCADO             |195    |76      |67               |22           |0             |65  |0     |2   |\n",
      "|BA   |SALVADOR                 |5      |800     |82               |41           |0             |80  |1     |1   |\n",
      "|BA   |SEABRA                   |88     |181     |142              |62           |0             |141 |0     |1   |\n",
      "|CE   |JUAZEIRO DO NORTE        |119    |267     |23               |16           |0             |22  |1     |0   |\n",
      "|CE   |PEDRA BRANCA             |59     |112     |98               |19           |0             |95  |0     |3   |\n",
      "|CE   |PEDRA BRANCA             |59     |114     |79               |24           |0             |73  |2     |4   |\n",
      "|CE   |PORANGA                  |40     |163     |70               |27           |0             |69  |1     |0   |\n",
      "|CE   |QUITERIANÓPOLIS          |99     |141     |118              |16           |0             |116 |0     |2   |\n",
      "|CE   |QUIXERAMOBIM             |11     |186     |105              |27           |0             |103 |1     |1   |\n",
      "|CE   |SANTANA DO CARIRI        |53     |50      |171              |28           |0             |159 |5     |7   |\n",
      "|CE   |TAMBORIL                 |61     |102     |85               |18           |0             |81  |0     |4   |\n",
      "|MA   |AMARANTE DO MARANHÃO     |99     |127     |75               |34           |0             |73  |0     |2   |\n",
      "|MA   |BACURI                   |107    |38      |106              |40           |0             |106 |0     |0   |\n",
      "|MA   |BARRA DO CORDA           |23     |19      |74               |34           |0             |74  |0     |0   |\n",
      "|MA   |BARREIRINHAS             |56     |175     |88               |22           |0             |87  |0     |1   |\n",
      "|MA   |BARREIRINHAS             |56     |239     |52               |9            |0             |51  |0     |1   |\n",
      "|MA   |BREJO                    |24     |253     |62               |5            |0             |61  |0     |1   |\n",
      "|MA   |CARUTAPERA               |55     |69      |53               |17           |0             |53  |0     |0   |\n",
      "|MA   |CURURUPU                 |14     |175     |56               |6            |0             |56  |0     |0   |\n",
      "|MA   |CURURUPU                 |14     |193     |20               |3            |0             |19  |1     |0   |\n",
      "|MA   |FERNANDO FALCÃO          |97     |185     |284              |28           |0             |283 |1     |0   |\n",
      "|MA   |FERNANDO FALCÃO          |97     |205     |310              |12           |0             |310 |0     |0   |\n",
      "|MA   |FERNANDO FALCÃO          |97     |207     |69               |7            |0             |69  |0     |0   |\n",
      "|MA   |GUIMARÃES                |30     |74      |102              |38           |0             |101 |0     |1   |\n",
      "|MA   |HUMBERTO DE CAMPOS       |32     |55      |42               |41           |0             |39  |0     |3   |\n",
      "|MA   |ICATU                    |31     |168     |92               |59           |0             |91  |1     |0   |\n",
      "|MA   |ICATU                    |31     |197     |45               |34           |0             |44  |0     |1   |\n",
      "|MA   |ITAIPAVA DO GRAJAÚ       |15     |314     |277              |55           |0             |277 |0     |0   |\n",
      "|MA   |ITAPECURU MIRIM          |16     |337     |93               |12           |0             |89  |0     |4   |\n",
      "|MA   |LAGO DO JUNCO            |74     |295     |66               |10           |0             |66  |0     |0   |\n",
      "|MA   |MARANHÃOZINHO            |101    |78      |307              |20           |0             |307 |0     |0   |\n",
      "|MA   |MONTES ALTOS             |103    |28      |261              |20           |0             |260 |0     |1   |\n",
      "|MA   |MONTES ALTOS             |103    |80      |266              |15           |0             |264 |0     |2   |\n",
      "|MA   |PARNARAMA                |36     |69      |81               |26           |0             |80  |0     |1   |\n",
      "|MA   |PEDRO DO ROSÁRIO         |106    |54      |207              |97           |0             |204 |0     |3   |\n",
      "|MA   |PENALVA                  |45     |63      |120              |45           |0             |119 |0     |1   |\n",
      "|MA   |PRESIDENTE SARNEY        |106    |224     |130              |66           |0             |130 |0     |0   |\n",
      "|MA   |PRESIDENTE VARGAS        |50     |151     |129              |34           |0             |121 |3     |5   |\n",
      "|MA   |PRIMEIRA CRUZ            |32     |202     |61               |6            |0             |60  |0     |1   |\n",
      "|MA   |PRIMEIRA CRUZ            |32     |72      |93               |24           |0             |93  |0     |0   |\n",
      "|MA   |PRIMEIRA CRUZ            |32     |89      |93               |15           |0             |92  |0     |1   |\n",
      "|MA   |PRIMEIRA CRUZ            |32     |90      |43               |11           |0             |42  |0     |1   |\n",
      "|MA   |SANTA LUZIA              |70     |186     |57               |21           |0             |56  |1     |0   |\n",
      "|MA   |SANTANA DO MARANHÃO      |51     |175     |40               |13           |0             |40  |0     |0   |\n",
      "|MA   |SANTO AMARO DO MARANHÃO  |32     |133     |83               |13           |0             |83  |0     |0   |\n",
      "|MA   |SANTO AMARO DO MARANHÃO  |32     |138     |98               |24           |0             |98  |0     |0   |\n",
      "|MA   |SANTO AMARO DO MARANHÃO  |32     |170     |105              |27           |0             |103 |1     |1   |\n",
      "|MA   |SERRANO DO MARANHÃO      |107    |156     |64               |11           |0             |61  |0     |3   |\n",
      "|MA   |SERRANO DO MARANHÃO      |107    |87      |64               |25           |0             |60  |0     |4   |\n",
      "|MA   |SERRANO DO MARANHÃO      |107    |89      |68               |35           |0             |68  |0     |0   |\n",
      "|MA   |SÃO BENEDITO DO RIO PRETO|73     |163     |89               |4            |0             |86  |1     |2   |\n",
      "|MA   |SÃO BENEDITO DO RIO PRETO|73     |67      |220              |38           |0             |213 |0     |7   |\n",
      "|MA   |SÃO BENEDITO DO RIO PRETO|73     |98      |110              |26           |0             |107 |1     |2   |\n",
      "|MA   |SÃO BENTO                |38     |167     |88               |23           |0             |87  |0     |1   |\n",
      "|MA   |TURIAÇU                  |39     |58      |155              |118          |0             |148 |0     |7   |\n",
      "|MA   |TURILÂNDIA               |83     |148     |71               |27           |0             |70  |0     |1   |\n",
      "|MA   |TURILÂNDIA               |83     |159     |91               |11           |0             |90  |0     |1   |\n",
      "|MA   |ÁGUA DOCE DO MARANHÃO    |12     |174     |74               |28           |0             |73  |0     |1   |\n",
      "|MG   |BERTÓPOLIS               |4      |152     |213              |10           |0             |207 |0     |6   |\n",
      "|MG   |BERTÓPOLIS               |4      |178     |173              |9            |0             |165 |0     |8   |\n",
      "|MG   |CARMÉSIA                 |113    |42      |83               |27           |0             |82  |0     |1   |\n",
      "|MG   |JANUÁRIA                 |148    |276     |119              |64           |0             |115 |3     |1   |\n",
      "|MG   |JANUÁRIA                 |148    |291     |76               |33           |0             |75  |0     |1   |\n",
      "|MG   |JUATUBA                  |172    |183     |22               |7            |0             |21  |1     |0   |\n",
      "|MG   |NOVO CRUZEIRO            |196    |171     |71               |65           |0             |68  |0     |3   |\n",
      "|MG   |PORTEIRINHA              |226    |219     |30               |17           |0             |28  |0     |2   |\n",
      "|MG   |SÃO FRANCISCO            |252    |211     |79               |42           |0             |79  |0     |0   |\n",
      "|MS   |DOIS IRMÃOS DO BURITI    |49     |68      |216              |91           |0             |206 |1     |9   |\n",
      "|MT   |CAMPINÁPOLIS             |26     |189     |270              |72           |0             |265 |0     |5   |\n",
      "|MT   |CONFRESA                 |28     |158     |384              |17           |0             |383 |0     |1   |\n",
      "|MT   |PEIXOTO DE AZEVEDO       |33     |255     |116              |73           |0             |116 |0     |0   |\n",
      "|MT   |PORTO ALEGRE DO NORTE    |28     |191     |55               |2            |0             |55  |0     |0   |\n",
      "|MT   |SANTA TEREZINHA          |16     |86      |252              |39           |0             |248 |1     |3   |\n",
      "|PA   |ANAPU                    |80     |254     |158              |92           |0             |157 |0     |1   |\n",
      "|PA   |BREVES                   |15     |289     |33               |12           |0             |29  |4     |0   |\n",
      "|PA   |JURUTI                   |105    |92      |30               |28           |0             |29  |0     |1   |\n",
      "|PA   |MOJU                     |37     |120     |50               |29           |0             |49  |1     |0   |\n",
      "|PA   |ORIXIMINÁ                |38     |260     |111              |20           |0             |111 |0     |0   |\n",
      "|PA   |SANTA LUZIA DO PARÁ      |41     |198     |84               |9            |0             |82  |0     |2   |\n",
      "|PA   |SÃO DOMINGOS DO CAPIM    |50     |181     |105              |16           |0             |103 |0     |2   |\n",
      "|PA   |SÃO FÉLIX DO XINGU       |53     |218     |195              |91           |0             |194 |0     |1   |\n",
      "|PI   |CORONEL JOSÉ DIAS        |13     |242     |121              |19           |0             |119 |0     |2   |\n",
      "|PI   |GILBUÉS                  |35     |63      |90               |25           |0             |87  |1     |2   |\n",
      "|PI   |OEIRAS                   |5      |356     |35               |8            |0             |34  |0     |1   |\n",
      "|PI   |PIRIPIRI                 |11     |184     |86               |31           |0             |85  |1     |0   |\n",
      "|PI   |SÃO BRAZ DO PIAUÍ        |95     |50      |123              |28           |0             |117 |1     |5   |\n",
      "|PI   |SÃO JOSÉ DO PIAUÍ        |64     |73      |102              |8            |0             |98  |0     |4   |\n",
      "|PI   |TERESINA                 |97     |150     |21               |13           |0             |21  |0     |0   |\n",
      "|PR   |ORTIGUEIRA               |167    |96      |233              |94           |0             |223 |4     |6   |\n",
      "|RR   |NORMANDIA                |5      |627     |56               |19           |0             |55  |0     |1   |\n",
      "|RR   |UIRAMUTÃ                 |7      |63      |178              |37           |0             |176 |0     |2   |\n",
      "|RS   |CHARRUA                  |100    |126     |327              |60           |0             |302 |2     |23  |\n",
      "|RS   |PASSO FUNDO              |128    |492     |39               |20           |0             |37  |0     |2   |\n",
      "|SC   |SÃO CRISTÓVÃO DO SUL     |11     |166     |28               |7            |0             |28  |0     |0   |\n",
      "|SE   |NOSSA SENHORA DO SOCORRO |34     |304     |17               |11           |0             |17  |0     |0   |\n",
      "|SP   |FRANCA                   |291    |341     |14               |8            |0             |14  |0     |0   |\n",
      "|SP   |GUARULHOS                |185    |372     |10               |53           |0             |10  |0     |0   |\n",
      "|SP   |MAUÁ                     |217    |353     |32               |14           |0             |32  |0     |0   |\n",
      "|SP   |OSASCO                   |315    |336     |90               |112          |0             |89  |1     |0   |\n",
      "|TO   |FORMOSO DO ARAGUAIA      |15     |72      |98               |35           |0             |97  |0     |1   |\n",
      "|ZZ   |CIUDAD GUAYANA           |1      |91      |0                |75           |0             |0   |0     |0   |\n",
      "|ZZ   |HAVANA                   |1      |127     |32               |55           |0             |32  |0     |0   |\n",
      "|ZZ   |PUERTO IGUAZÚ            |1      |1504    |5                |25           |0             |5   |0     |0   |\n",
      "+-----+-------------------------+-------+--------+-----------------+-------------+--------------+----+------+----+\n",
      "\n"
     ]
    }
   ],
   "source": [
    "secoes.filter(F.col(\"JAIR BOLSONARO\") == 0)\\\n",
    ".orderBy(\"SG_UF\", \"NM_MUNICIPIO\", \"NR_SECAO\")\\\n",
    ".show(200, False)"
   ]
  },
  {
   "cell_type": "code",
   "execution_count": 95,
   "id": "086c3404-68d4-406c-8dbe-ff979c5ab929",
   "metadata": {},
   "outputs": [
    {
     "data": {
      "text/plain": [
       "5"
      ]
     },
     "execution_count": 95,
     "metadata": {},
     "output_type": "execute_result"
    }
   ],
   "source": [
    "secoes.filter(F.col(\"LULA\") == 0).count()"
   ]
  },
  {
   "cell_type": "code",
   "execution_count": 94,
   "id": "c04ec41f-bb5f-481f-b081-2c5972a38049",
   "metadata": {},
   "outputs": [
    {
     "name": "stdout",
     "output_type": "stream",
     "text": [
      "+-----+--------------+-------+--------+-----------------+-------------+--------------+----+------+----+\n",
      "|SG_UF|NM_MUNICIPIO  |NR_ZONA|NR_SECAO|QT_COMPARECIMENTO|QT_ABSTENCOES|JAIR BOLSONARO|LULA|Branco|Nulo|\n",
      "+-----+--------------+-------+--------+-----------------+-------------+--------------+----+------+----+\n",
      "|PA   |CHAVES        |17     |41      |40               |23           |39            |0   |1     |0   |\n",
      "|RS   |CHARRUA       |100    |15      |82               |9            |79            |0   |1     |2   |\n",
      "|ZZ   |CARACAS       |1      |78      |5                |559          |5             |0   |0     |0   |\n",
      "|ZZ   |CARACAS       |1      |79      |1                |677          |1             |0   |0     |0   |\n",
      "|ZZ   |CIUDAD GUAYANA|1      |91      |0                |75           |0             |0   |0     |0   |\n",
      "+-----+--------------+-------+--------+-----------------+-------------+--------------+----+------+----+\n",
      "\n"
     ]
    }
   ],
   "source": [
    "secoes.filter(F.col(\"LULA\") == 0)\\\n",
    ".orderBy(\"SG_UF\", \"NM_MUNICIPIO\", \"NR_SECAO\")\\\n",
    ".show(200, False)"
   ]
  },
  {
   "cell_type": "code",
   "execution_count": null,
   "id": "d5fb1de5-5c34-49f6-8e8a-eeeaccf88ec4",
   "metadata": {},
   "outputs": [],
   "source": []
  }
 ],
 "metadata": {
  "kernelspec": {
   "display_name": "Python 3 (ipykernel)",
   "language": "python",
   "name": "python3"
  },
  "language_info": {
   "codemirror_mode": {
    "name": "ipython",
    "version": 3
   },
   "file_extension": ".py",
   "mimetype": "text/x-python",
   "name": "python",
   "nbconvert_exporter": "python",
   "pygments_lexer": "ipython3",
   "version": "3.9.12"
  }
 },
 "nbformat": 4,
 "nbformat_minor": 5
}
