{
 "cells": [
  {
   "cell_type": "code",
   "execution_count": 2,
   "id": "3d7f4cad-6c71-4932-8767-b09407589bfa",
   "metadata": {},
   "outputs": [],
   "source": [
    "import pyspark\n",
    "import pyspark.sql.functions as F"
   ]
  },
  {
   "cell_type": "code",
   "execution_count": 3,
   "id": "b09e02da-6050-4485-861d-41438007de8a",
   "metadata": {},
   "outputs": [
    {
     "name": "stderr",
     "output_type": "stream",
     "text": [
      "22/11/06 16:44:42 WARN Utils: Your hostname, MBP-MT.local resolves to a loopback address: 127.0.0.1; using 192.168.0.192 instead (on interface en0)\n",
      "22/11/06 16:44:42 WARN Utils: Set SPARK_LOCAL_IP if you need to bind to another address\n",
      "22/11/06 16:44:43 WARN NativeCodeLoader: Unable to load native-hadoop library for your platform... using builtin-java classes where applicable\n",
      "Using Spark's default log4j profile: org/apache/spark/log4j-defaults.properties\n",
      "Setting default log level to \"WARN\".\n",
      "To adjust logging level use sc.setLogLevel(newLevel). For SparkR, use setLogLevel(newLevel).\n"
     ]
    }
   ],
   "source": [
    "spark = pyspark.sql.SparkSession.builder.getOrCreate()"
   ]
  },
  {
   "cell_type": "code",
   "execution_count": 12,
   "id": "93d4f85d-1dee-47e3-8cea-338cb9fbd046",
   "metadata": {},
   "outputs": [],
   "source": [
    "df = spark\\\n",
    "    .read\\\n",
    "    .option(\"header\", \"true\")\\\n",
    "    .option(\"sep\", \";\")\\\n",
    "    .option('encoding', 'latin1')\\\n",
    "    .csv(\"turno=2\")"
   ]
  },
  {
   "cell_type": "code",
   "execution_count": 16,
   "id": "f6d7f7b0-2a3b-4343-b988-9c1aac239448",
   "metadata": {},
   "outputs": [],
   "source": [
    "df.registerTempTable(\"segundo_turno\")"
   ]
  },
  {
   "cell_type": "code",
   "execution_count": 13,
   "id": "2c55ceea-ecab-4354-b21e-66ddfee7f90c",
   "metadata": {},
   "outputs": [
    {
     "name": "stdout",
     "output_type": "stream",
     "text": [
      "root\n",
      " |-- DT_GERACAO: string (nullable = true)\n",
      " |-- HH_GERACAO: string (nullable = true)\n",
      " |-- ANO_ELEICAO: string (nullable = true)\n",
      " |-- CD_TIPO_ELEICAO: string (nullable = true)\n",
      " |-- NM_TIPO_ELEICAO: string (nullable = true)\n",
      " |-- CD_PLEITO: string (nullable = true)\n",
      " |-- DT_PLEITO: string (nullable = true)\n",
      " |-- NR_TURNO: string (nullable = true)\n",
      " |-- CD_ELEICAO: string (nullable = true)\n",
      " |-- DS_ELEICAO: string (nullable = true)\n",
      " |-- SG_UF: string (nullable = true)\n",
      " |-- CD_MUNICIPIO: string (nullable = true)\n",
      " |-- NM_MUNICIPIO: string (nullable = true)\n",
      " |-- NR_ZONA: string (nullable = true)\n",
      " |-- NR_SECAO: string (nullable = true)\n",
      " |-- NR_LOCAL_VOTACAO: string (nullable = true)\n",
      " |-- CD_CARGO_PERGUNTA: string (nullable = true)\n",
      " |-- DS_CARGO_PERGUNTA: string (nullable = true)\n",
      " |-- NR_PARTIDO: string (nullable = true)\n",
      " |-- SG_PARTIDO: string (nullable = true)\n",
      " |-- NM_PARTIDO: string (nullable = true)\n",
      " |-- DT_BU_RECEBIDO: string (nullable = true)\n",
      " |-- QT_APTOS: string (nullable = true)\n",
      " |-- QT_COMPARECIMENTO: string (nullable = true)\n",
      " |-- QT_ABSTENCOES: string (nullable = true)\n",
      " |-- CD_TIPO_URNA: string (nullable = true)\n",
      " |-- DS_TIPO_URNA: string (nullable = true)\n",
      " |-- CD_TIPO_VOTAVEL: string (nullable = true)\n",
      " |-- DS_TIPO_VOTAVEL: string (nullable = true)\n",
      " |-- NR_VOTAVEL: string (nullable = true)\n",
      " |-- NM_VOTAVEL: string (nullable = true)\n",
      " |-- QT_VOTOS: string (nullable = true)\n",
      " |-- NR_URNA_EFETIVADA: string (nullable = true)\n",
      " |-- CD_CARGA_1_URNA_EFETIVADA: string (nullable = true)\n",
      " |-- CD_CARGA_2_URNA_EFETIVADA: string (nullable = true)\n",
      " |-- CD_FLASHCARD_URNA_EFETIVADA: string (nullable = true)\n",
      " |-- DT_CARGA_URNA_EFETIVADA: string (nullable = true)\n",
      " |-- DS_CARGO_PERGUNTA_SECAO: string (nullable = true)\n",
      " |-- DS_AGREGADAS: string (nullable = true)\n",
      " |-- DT_ABERTURA: string (nullable = true)\n",
      " |-- DT_ENCERRAMENTO: string (nullable = true)\n",
      " |-- QT_ELEITORES_BIOMETRIA_NH: string (nullable = true)\n",
      " |-- DT_EMISSAO_BU: string (nullable = true)\n",
      " |-- NR_JUNTA_APURADORA: string (nullable = true)\n",
      " |-- NR_TURMA_APURADORA: string (nullable = true)\n",
      "\n"
     ]
    }
   ],
   "source": [
    "df.printSchema()"
   ]
  },
  {
   "cell_type": "code",
   "execution_count": 14,
   "id": "d4e30df0-37b0-479d-90e0-a869c4381f45",
   "metadata": {},
   "outputs": [
    {
     "name": "stderr",
     "output_type": "stream",
     "text": [
      "                                                                                \r"
     ]
    },
    {
     "data": {
      "text/plain": [
       "2841231"
      ]
     },
     "execution_count": 14,
     "metadata": {},
     "output_type": "execute_result"
    }
   ],
   "source": [
    "df.count()"
   ]
  },
  {
   "cell_type": "code",
   "execution_count": 25,
   "id": "0a254fb4-86e4-4686-b3e4-78b61fb7affe",
   "metadata": {},
   "outputs": [
    {
     "name": "stdout",
     "output_type": "stream",
     "text": [
      "+------------+-------+--------+-----------------+---------------+--------+-----------------+-------------+\n",
      "|NM_MUNICIPIO|NR_ZONA|NR_SECAO|DS_CARGO_PERGUNTA|     NM_VOTAVEL|QT_VOTOS|QT_COMPARECIMENTO|QT_ABSTENCOES|\n",
      "+------------+-------+--------+-----------------+---------------+--------+-----------------+-------------+\n",
      "|   SÃO PAULO|      1|       1|       Presidente|           Nulo|      12|              279|           91|\n",
      "|   SÃO PAULO|      1|       1|       Presidente| JAIR BOLSONARO|     132|              279|           91|\n",
      "|   SÃO PAULO|      1|       1|       Presidente|           LULA|     127|              279|           91|\n",
      "|   SÃO PAULO|      1|       1|       Presidente|         Branco|       8|              279|           91|\n",
      "|   SÃO PAULO|      1|       1|       Governador|           Nulo|      10|              279|           91|\n",
      "|   SÃO PAULO|      1|       1|       Governador|         Branco|      10|              279|           91|\n",
      "|   SÃO PAULO|      1|       1|       Governador|FERNANDO HADDAD|     124|              279|           91|\n",
      "|   SÃO PAULO|      1|       1|       Governador|       TARCÍSIO|     135|              279|           91|\n",
      "|   SÃO PAULO|      1|       2|       Presidente|           LULA|     158|              290|           97|\n",
      "|   SÃO PAULO|      1|       2|       Presidente|           Nulo|      13|              290|           97|\n",
      "|   SÃO PAULO|      1|       2|       Presidente|         Branco|       3|              290|           97|\n",
      "|   SÃO PAULO|      1|       2|       Presidente| JAIR BOLSONARO|     116|              290|           97|\n",
      "|   SÃO PAULO|      1|       2|       Governador|FERNANDO HADDAD|     117|              239|           92|\n",
      "|   SÃO PAULO|      1|       2|       Governador|       TARCÍSIO|      99|              239|           92|\n",
      "|   SÃO PAULO|      1|       2|       Governador|         Branco|       8|              239|           92|\n",
      "|   SÃO PAULO|      1|       2|       Governador|           Nulo|      15|              239|           92|\n",
      "|   SÃO PAULO|      1|       3|       Presidente|         Branco|       2|              298|           87|\n",
      "|   SÃO PAULO|      1|       3|       Presidente| JAIR BOLSONARO|     123|              298|           87|\n",
      "|   SÃO PAULO|      1|       3|       Presidente|           Nulo|       7|              298|           87|\n",
      "|   SÃO PAULO|      1|       3|       Presidente|           LULA|     166|              298|           87|\n",
      "+------------+-------+--------+-----------------+---------------+--------+-----------------+-------------+\n",
      "only showing top 20 rows\n",
      "\n"
     ]
    }
   ],
   "source": [
    "spark.sql(\"select NM_MUNICIPIO, NR_ZONA, NR_SECAO, DS_CARGO_PERGUNTA, NM_VOTAVEL, QT_VOTOS, QT_COMPARECIMENTO, QT_ABSTENCOES from segundo_turno\").show()"
   ]
  },
  {
   "cell_type": "code",
   "execution_count": null,
   "id": "56094621-401a-4544-a40b-ef2c673902c7",
   "metadata": {},
   "outputs": [],
   "source": []
  }
 ],
 "metadata": {
  "kernelspec": {
   "display_name": "Python 3 (ipykernel)",
   "language": "python",
   "name": "python3"
  },
  "language_info": {
   "codemirror_mode": {
    "name": "ipython",
    "version": 3
   },
   "file_extension": ".py",
   "mimetype": "text/x-python",
   "name": "python",
   "nbconvert_exporter": "python",
   "pygments_lexer": "ipython3",
   "version": "3.9.12"
  }
 },
 "nbformat": 4,
 "nbformat_minor": 5
}
